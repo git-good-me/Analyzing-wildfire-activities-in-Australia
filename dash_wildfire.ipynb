{
 "cells": [
  {
   "cell_type": "code",
   "execution_count": 1,
   "id": "cbded154-a966-40c0-a270-d57e6e4938e8",
   "metadata": {},
   "outputs": [
    {
     "name": "stdout",
     "output_type": "stream",
     "text": [
      "Requirement already satisfied: setuptools in c:\\users\\faizs\\anaconda3\\lib\\site-packages (69.5.1)\n",
      "Note: you may need to restart the kernel to use updated packages.\n"
     ]
    }
   ],
   "source": [
    "pip install setuptools"
   ]
  },
  {
   "cell_type": "code",
   "execution_count": 5,
   "id": "7e14aefb-de46-44e4-8e69-9f362a798edc",
   "metadata": {},
   "outputs": [
    {
     "name": "stdout",
     "output_type": "stream",
     "text": [
      "Requirement already satisfied: packaging in c:\\users\\faizs\\anaconda3\\lib\\site-packages (23.2)\n"
     ]
    }
   ],
   "source": [
    "!python -m pip install packaging"
   ]
  },
  {
   "cell_type": "code",
   "execution_count": 7,
   "id": "5beea02a-4bd9-4f4e-91ef-79bb257352ea",
   "metadata": {},
   "outputs": [
    {
     "name": "stdout",
     "output_type": "stream",
     "text": [
      "Requirement already satisfied: pandas in c:\\users\\faizs\\anaconda3\\lib\\site-packages (2.2.2)\n",
      "Requirement already satisfied: dash in c:\\users\\faizs\\anaconda3\\lib\\site-packages (2.18.1)\n",
      "Requirement already satisfied: numpy>=1.26.0 in c:\\users\\faizs\\anaconda3\\lib\\site-packages (from pandas) (1.26.4)\n",
      "Requirement already satisfied: python-dateutil>=2.8.2 in c:\\users\\faizs\\anaconda3\\lib\\site-packages (from pandas) (2.9.0.post0)\n",
      "Requirement already satisfied: pytz>=2020.1 in c:\\users\\faizs\\anaconda3\\lib\\site-packages (from pandas) (2024.1)\n",
      "Requirement already satisfied: tzdata>=2022.7 in c:\\users\\faizs\\anaconda3\\lib\\site-packages (from pandas) (2023.3)\n",
      "Requirement already satisfied: Flask<3.1,>=1.0.4 in c:\\users\\faizs\\anaconda3\\lib\\site-packages (from dash) (3.0.3)\n",
      "Requirement already satisfied: Werkzeug<3.1 in c:\\users\\faizs\\anaconda3\\lib\\site-packages (from dash) (3.0.3)\n",
      "Requirement already satisfied: plotly>=5.0.0 in c:\\users\\faizs\\anaconda3\\lib\\site-packages (from dash) (5.22.0)\n",
      "Requirement already satisfied: dash-html-components==2.0.0 in c:\\users\\faizs\\anaconda3\\lib\\site-packages (from dash) (2.0.0)\n",
      "Requirement already satisfied: dash-core-components==2.0.0 in c:\\users\\faizs\\anaconda3\\lib\\site-packages (from dash) (2.0.0)\n",
      "Requirement already satisfied: dash-table==5.0.0 in c:\\users\\faizs\\anaconda3\\lib\\site-packages (from dash) (5.0.0)\n",
      "Requirement already satisfied: importlib-metadata in c:\\users\\faizs\\anaconda3\\lib\\site-packages (from dash) (7.0.1)\n",
      "Requirement already satisfied: typing-extensions>=4.1.1 in c:\\users\\faizs\\anaconda3\\lib\\site-packages (from dash) (4.11.0)\n",
      "Requirement already satisfied: requests in c:\\users\\faizs\\anaconda3\\lib\\site-packages (from dash) (2.32.2)\n",
      "Requirement already satisfied: retrying in c:\\users\\faizs\\anaconda3\\lib\\site-packages (from dash) (1.3.4)\n",
      "Requirement already satisfied: nest-asyncio in c:\\users\\faizs\\anaconda3\\lib\\site-packages (from dash) (1.6.0)\n",
      "Requirement already satisfied: setuptools in c:\\users\\faizs\\anaconda3\\lib\\site-packages (from dash) (69.5.1)\n",
      "Requirement already satisfied: Jinja2>=3.1.2 in c:\\users\\faizs\\anaconda3\\lib\\site-packages (from Flask<3.1,>=1.0.4->dash) (3.1.4)\n",
      "Requirement already satisfied: itsdangerous>=2.1.2 in c:\\users\\faizs\\anaconda3\\lib\\site-packages (from Flask<3.1,>=1.0.4->dash) (2.2.0)\n",
      "Requirement already satisfied: click>=8.1.3 in c:\\users\\faizs\\anaconda3\\lib\\site-packages (from Flask<3.1,>=1.0.4->dash) (8.1.7)\n",
      "Requirement already satisfied: blinker>=1.6.2 in c:\\users\\faizs\\anaconda3\\lib\\site-packages (from Flask<3.1,>=1.0.4->dash) (1.6.2)\n",
      "Requirement already satisfied: tenacity>=6.2.0 in c:\\users\\faizs\\anaconda3\\lib\\site-packages (from plotly>=5.0.0->dash) (8.2.2)\n",
      "Requirement already satisfied: packaging in c:\\users\\faizs\\anaconda3\\lib\\site-packages (from plotly>=5.0.0->dash) (23.2)\n",
      "Requirement already satisfied: six>=1.5 in c:\\users\\faizs\\anaconda3\\lib\\site-packages (from python-dateutil>=2.8.2->pandas) (1.16.0)\n",
      "Requirement already satisfied: MarkupSafe>=2.1.1 in c:\\users\\faizs\\anaconda3\\lib\\site-packages (from Werkzeug<3.1->dash) (2.1.3)\n",
      "Requirement already satisfied: zipp>=0.5 in c:\\users\\faizs\\anaconda3\\lib\\site-packages (from importlib-metadata->dash) (3.17.0)\n",
      "Requirement already satisfied: charset-normalizer<4,>=2 in c:\\users\\faizs\\anaconda3\\lib\\site-packages (from requests->dash) (2.0.4)\n",
      "Requirement already satisfied: idna<4,>=2.5 in c:\\users\\faizs\\anaconda3\\lib\\site-packages (from requests->dash) (3.7)\n",
      "Requirement already satisfied: urllib3<3,>=1.21.1 in c:\\users\\faizs\\anaconda3\\lib\\site-packages (from requests->dash) (2.2.2)\n",
      "Requirement already satisfied: certifi>=2017.4.17 in c:\\users\\faizs\\anaconda3\\lib\\site-packages (from requests->dash) (2024.7.4)\n",
      "Requirement already satisfied: colorama in c:\\users\\faizs\\anaconda3\\lib\\site-packages (from click>=8.1.3->Flask<3.1,>=1.0.4->dash) (0.4.6)\n"
     ]
    }
   ],
   "source": [
    "!python -m pip install pandas dash"
   ]
  },
  {
   "cell_type": "code",
   "execution_count": 9,
   "id": "3c76a45e-137c-482b-a450-252e198b2692",
   "metadata": {},
   "outputs": [
    {
     "name": "stdout",
     "output_type": "stream",
     "text": [
      "Requirement already satisfied: httpx==0.20 in c:\\users\\faizs\\anaconda3\\lib\\site-packages (0.20.0)\n",
      "Requirement already satisfied: dash in c:\\users\\faizs\\anaconda3\\lib\\site-packages (2.18.1)\n",
      "Requirement already satisfied: plotly in c:\\users\\faizs\\anaconda3\\lib\\site-packages (5.22.0)\n",
      "Requirement already satisfied: certifi in c:\\users\\faizs\\anaconda3\\lib\\site-packages (from httpx==0.20) (2024.7.4)\n",
      "Requirement already satisfied: charset-normalizer in c:\\users\\faizs\\anaconda3\\lib\\site-packages (from httpx==0.20) (2.0.4)\n",
      "Requirement already satisfied: sniffio in c:\\users\\faizs\\anaconda3\\lib\\site-packages (from httpx==0.20) (1.3.0)\n",
      "Requirement already satisfied: rfc3986<2,>=1.3 in c:\\users\\faizs\\anaconda3\\lib\\site-packages (from rfc3986[idna2008]<2,>=1.3->httpx==0.20) (1.5.0)\n",
      "Requirement already satisfied: httpcore<0.14.0,>=0.13.3 in c:\\users\\faizs\\anaconda3\\lib\\site-packages (from httpx==0.20) (0.13.7)\n",
      "Requirement already satisfied: Flask<3.1,>=1.0.4 in c:\\users\\faizs\\anaconda3\\lib\\site-packages (from dash) (3.0.3)\n",
      "Requirement already satisfied: Werkzeug<3.1 in c:\\users\\faizs\\anaconda3\\lib\\site-packages (from dash) (3.0.3)\n",
      "Requirement already satisfied: dash-html-components==2.0.0 in c:\\users\\faizs\\anaconda3\\lib\\site-packages (from dash) (2.0.0)\n",
      "Requirement already satisfied: dash-core-components==2.0.0 in c:\\users\\faizs\\anaconda3\\lib\\site-packages (from dash) (2.0.0)\n",
      "Requirement already satisfied: dash-table==5.0.0 in c:\\users\\faizs\\anaconda3\\lib\\site-packages (from dash) (5.0.0)\n",
      "Requirement already satisfied: importlib-metadata in c:\\users\\faizs\\anaconda3\\lib\\site-packages (from dash) (7.0.1)\n",
      "Requirement already satisfied: typing-extensions>=4.1.1 in c:\\users\\faizs\\anaconda3\\lib\\site-packages (from dash) (4.11.0)\n",
      "Requirement already satisfied: requests in c:\\users\\faizs\\anaconda3\\lib\\site-packages (from dash) (2.32.2)\n",
      "Requirement already satisfied: retrying in c:\\users\\faizs\\anaconda3\\lib\\site-packages (from dash) (1.3.4)\n",
      "Requirement already satisfied: nest-asyncio in c:\\users\\faizs\\anaconda3\\lib\\site-packages (from dash) (1.6.0)\n",
      "Requirement already satisfied: setuptools in c:\\users\\faizs\\anaconda3\\lib\\site-packages (from dash) (69.5.1)\n",
      "Requirement already satisfied: tenacity>=6.2.0 in c:\\users\\faizs\\anaconda3\\lib\\site-packages (from plotly) (8.2.2)\n",
      "Requirement already satisfied: packaging in c:\\users\\faizs\\anaconda3\\lib\\site-packages (from plotly) (23.2)\n",
      "Requirement already satisfied: Jinja2>=3.1.2 in c:\\users\\faizs\\anaconda3\\lib\\site-packages (from Flask<3.1,>=1.0.4->dash) (3.1.4)\n",
      "Requirement already satisfied: itsdangerous>=2.1.2 in c:\\users\\faizs\\anaconda3\\lib\\site-packages (from Flask<3.1,>=1.0.4->dash) (2.2.0)\n",
      "Requirement already satisfied: click>=8.1.3 in c:\\users\\faizs\\anaconda3\\lib\\site-packages (from Flask<3.1,>=1.0.4->dash) (8.1.7)\n",
      "Requirement already satisfied: blinker>=1.6.2 in c:\\users\\faizs\\anaconda3\\lib\\site-packages (from Flask<3.1,>=1.0.4->dash) (1.6.2)\n",
      "Requirement already satisfied: h11<0.13,>=0.11 in c:\\users\\faizs\\anaconda3\\lib\\site-packages (from httpcore<0.14.0,>=0.13.3->httpx==0.20) (0.12.0)\n",
      "Requirement already satisfied: anyio==3.* in c:\\users\\faizs\\anaconda3\\lib\\site-packages (from httpcore<0.14.0,>=0.13.3->httpx==0.20) (3.7.1)\n",
      "Requirement already satisfied: idna>=2.8 in c:\\users\\faizs\\anaconda3\\lib\\site-packages (from anyio==3.*->httpcore<0.14.0,>=0.13.3->httpx==0.20) (3.7)\n",
      "Requirement already satisfied: MarkupSafe>=2.1.1 in c:\\users\\faizs\\anaconda3\\lib\\site-packages (from Werkzeug<3.1->dash) (2.1.3)\n",
      "Requirement already satisfied: zipp>=0.5 in c:\\users\\faizs\\anaconda3\\lib\\site-packages (from importlib-metadata->dash) (3.17.0)\n",
      "Requirement already satisfied: urllib3<3,>=1.21.1 in c:\\users\\faizs\\anaconda3\\lib\\site-packages (from requests->dash) (2.2.2)\n",
      "Requirement already satisfied: six>=1.7.0 in c:\\users\\faizs\\anaconda3\\lib\\site-packages (from retrying->dash) (1.16.0)\n",
      "Requirement already satisfied: colorama in c:\\users\\faizs\\anaconda3\\lib\\site-packages (from click>=8.1.3->Flask<3.1,>=1.0.4->dash) (0.4.6)\n",
      "Note: you may need to restart the kernel to use updated packages.\n"
     ]
    }
   ],
   "source": [
    "pip install httpx==0.20 dash plotly"
   ]
  },
  {
   "cell_type": "code",
   "execution_count": 5,
   "id": "8f3836d6-7983-4384-bac1-48c8ac19ac83",
   "metadata": {},
   "outputs": [
    {
     "data": {
      "text/html": [
       "\n",
       "        <iframe\n",
       "            width=\"100%\"\n",
       "            height=\"650\"\n",
       "            src=\"http://127.0.0.1:8051/\"\n",
       "            frameborder=\"0\"\n",
       "            allowfullscreen\n",
       "            \n",
       "        ></iframe>\n",
       "        "
      ],
      "text/plain": [
       "<IPython.lib.display.IFrame at 0x1d3d0e59070>"
      ]
     },
     "metadata": {},
     "output_type": "display_data"
    }
   ],
   "source": [
    "import pandas as pd\n",
    "import dash\n",
    "from dash import html, dcc\n",
    "from dash.dependencies import Input, Output, State\n",
    "import plotly.graph_objects as go\n",
    "import plotly.express as px\n",
    "from dash import no_update\n",
    "import datetime as dt\n",
    "#Create app\n",
    "app = dash.Dash(__name__)\n",
    "#Clear the layout and do not display exception till callback gets executed\n",
    "app.config.suppress_callback_exceptions = True\n",
    "# Read the wildfire data into pandas dataframe\n",
    "df =  pd.read_csv('https://cf-courses-data.s3.us.cloud-object-storage.appdomain.cloud/IBMDeveloperSkillsNetwork-DV0101EN-SkillsNetwork/Data%20Files/Historical_Wildfires.csv')\n",
    "#Extract year and month from the date column\n",
    "df['Month'] = pd.to_datetime(df['Date']).dt.month_name() #used for the names of the months\n",
    "df['Year'] = pd.to_datetime(df['Date']).dt.year\n",
    "#Layout Section of Dash\n",
    "#Task 1 Add the Title to the Dashboard\n",
    "app.layout = html.Div(children=[html.H1('Australia Wildfire Dashboard', \n",
    "                                style={'textAlign': 'center', 'color': '#503D36',\n",
    "                                'font-size': 26}),\n",
    "# TASK 2: Add the radio items and a dropdown right below the first inner division\n",
    "     #outer division starts\n",
    "     html.Div([\n",
    "                   # First inner divsion for  adding dropdown helper text for Selected Drive wheels\n",
    "                    html.Div([\n",
    "                            html.H2('Select Region:', style={'margin-right': '2em'}),\n",
    "\n",
    "                    #Radio items to select the region\n",
    "                    #dcc.RadioItems(['NSW','QL','SA','TA','VI','WA'], 'NSW', id='region',inline=True)]),\n",
    "                    dcc.RadioItems([{\"label\":\"New South Wales\",\"value\": \"NSW\"},\n",
    "                                    {\"label\":\"Northern Territory\",\"value\": \"NT\"},\n",
    "                                    {\"label\":\"Queensland\",\"value\": \"QL\"},\n",
    "                                    {\"label\":\"South Australia\",\"value\": \"SA\"},\n",
    "                                    {\"label\":\"Tasmania\",\"value\": \"TA\"},\n",
    "                                    {\"label\":\"Victoria\",\"value\": \"VI\"},\n",
    "                                    {\"label\":\"Western Australia\",\"value\": \"WA\"}],\"NSW\", id='region',inline=True)]),\n",
    "                    #Dropdown to select year\n",
    "                    html.Div([\n",
    "                            html.H2('Select Year:', style={'margin-right': '2em'}),\n",
    "                        dcc.Dropdown(df.Year.unique(), value = 2005,id='year')\n",
    "                    ]),\n",
    "#TASK 3: Add two empty divisions for output inside the next inner division. \n",
    "         #Second Inner division for adding 2 inner divisions for 2 output graphs\n",
    "                    html.Div([\n",
    "                \n",
    "                        html.Div([ ], id='plot1'),\n",
    "                        html.Div([ ], id='plot2')\n",
    "                    ], style={'display': 'flex'}),\n",
    "\n",
    "    ])\n",
    "    #outer division ends\n",
    "\n",
    "])\n",
    "#layout ends\n",
    "#TASK 4: Add the Ouput and input components inside the app.callback decorator.\n",
    "#Place to add @app.callback Decorator\n",
    "@app.callback([Output(component_id='plot1', component_property='children'),\n",
    "               Output(component_id='plot2', component_property='children')],\n",
    "               [Input(component_id='region', component_property='value'),\n",
    "                Input(component_id='year', component_property='value')])\n",
    "#TASK 5: Add the callback function.   \n",
    "#Place to define the callback function .\n",
    "def reg_year_display(input_region,input_year):  \n",
    "    #data\n",
    "   region_data = df[df['Region'] == input_region]\n",
    "   y_r_data = region_data[region_data['Year']==input_year]\n",
    "    #Plot one - Monthly Average Estimated Fire Area   \n",
    "   est_data = y_r_data.groupby('Month')['Estimated_fire_area'].mean().reset_index()\n",
    "   fig1 = px.pie(est_data, values='Estimated_fire_area', names='Month', title=\"{} : Monthly Average Estimated Fire Area in year {}\".format(input_region,input_year))   \n",
    "     #Plot two - Monthly Average Count of Pixels for Presumed Vegetation Fires\n",
    "   veg_data = y_r_data.groupby('Month')['Count'].mean().reset_index()\n",
    "   fig2 = px.bar(veg_data, x='Month', y='Count', title='{} : Average Count of Pixels for Presumed Vegetation Fires in year {}'.format(input_region,input_year))    \n",
    "   return [dcc.Graph(figure=fig1),\n",
    "            dcc.Graph(figure=fig2) ]\n",
    "if __name__ == '__main__':\n",
    "    app.run_server(port=8051)  # Change to a different port, e.g., 8051\n",
    "\n",
    "    "
   ]
  },
  {
   "cell_type": "code",
   "execution_count": null,
   "id": "9a47a7fa-b361-4a50-905d-c19970f46441",
   "metadata": {},
   "outputs": [],
   "source": []
  }
 ],
 "metadata": {
  "kernelspec": {
   "display_name": "Python 3 (ipykernel)",
   "language": "python",
   "name": "python3"
  },
  "language_info": {
   "codemirror_mode": {
    "name": "ipython",
    "version": 3
   },
   "file_extension": ".py",
   "mimetype": "text/x-python",
   "name": "python",
   "nbconvert_exporter": "python",
   "pygments_lexer": "ipython3",
   "version": "3.12.4"
  }
 },
 "nbformat": 4,
 "nbformat_minor": 5
}
